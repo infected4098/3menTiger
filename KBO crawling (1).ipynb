{
 "cells": [
  {
   "cell_type": "code",
   "execution_count": 7,
   "id": "e7f053a6",
   "metadata": {},
   "outputs": [
    {
     "name": "stdout",
     "output_type": "stream",
     "text": [
      "Requirement already satisfied: selenium in /opt/anaconda3/lib/python3.9/site-packages (4.4.3)\n",
      "Requirement already satisfied: trio-websocket~=0.9 in /opt/anaconda3/lib/python3.9/site-packages (from selenium) (0.9.2)\n",
      "Requirement already satisfied: urllib3[socks]~=1.26 in /opt/anaconda3/lib/python3.9/site-packages (from selenium) (1.26.14)\n",
      "Requirement already satisfied: certifi>=2021.10.8 in /opt/anaconda3/lib/python3.9/site-packages (from selenium) (2022.9.14)\n",
      "Requirement already satisfied: trio~=0.17 in /opt/anaconda3/lib/python3.9/site-packages (from selenium) (0.21.0)\n",
      "Requirement already satisfied: idna in /opt/anaconda3/lib/python3.9/site-packages (from trio~=0.17->selenium) (2.6)\n",
      "Requirement already satisfied: outcome in /opt/anaconda3/lib/python3.9/site-packages (from trio~=0.17->selenium) (1.2.0)\n",
      "Requirement already satisfied: async-generator>=1.9 in /opt/anaconda3/lib/python3.9/site-packages (from trio~=0.17->selenium) (1.10)\n",
      "Requirement already satisfied: attrs>=19.2.0 in /opt/anaconda3/lib/python3.9/site-packages (from trio~=0.17->selenium) (21.4.0)\n",
      "Requirement already satisfied: sniffio in /opt/anaconda3/lib/python3.9/site-packages (from trio~=0.17->selenium) (1.2.0)\n",
      "Requirement already satisfied: sortedcontainers in /opt/anaconda3/lib/python3.9/site-packages (from trio~=0.17->selenium) (2.4.0)\n",
      "Requirement already satisfied: wsproto>=0.14 in /opt/anaconda3/lib/python3.9/site-packages (from trio-websocket~=0.9->selenium) (1.2.0)\n",
      "Requirement already satisfied: PySocks!=1.5.7,<2.0,>=1.5.6 in /opt/anaconda3/lib/python3.9/site-packages (from urllib3[socks]~=1.26->selenium) (1.7.1)\n",
      "Requirement already satisfied: h11<1,>=0.9.0 in /opt/anaconda3/lib/python3.9/site-packages (from wsproto>=0.14->trio-websocket~=0.9->selenium) (0.13.0)\n"
     ]
    }
   ],
   "source": [
    "!pip install selenium\n",
    "from selenium import webdriver\n"
   ]
  },
  {
   "cell_type": "code",
   "execution_count": 118,
   "id": "3df9aeab",
   "metadata": {},
   "outputs": [],
   "source": [
    "import pandas as pd\n",
    "import numpy as np\n",
    "import requests\n",
    "from bs4 import BeautifulSoup\n",
    "from webdriver_manager.chrome import ChromeDriverManager\n",
    "from selenium.webdriver.common.by import By\n",
    "from selenium.webdriver.common.keys import Keys\n",
    "from tqdm import tqdm\n",
    "from wordcloud import WordCloud\n",
    "import re\n",
    "from collections import Counter\n",
    "import pickle\n",
    "import PyPDF2\n",
    "from inspect import getfile\n",
    "import os\n",
    "from urllib import request\n",
    "from urllib.error import HTTPError\n",
    "from bs4 import BeautifulSoup\n",
    "import requests\n",
    "import random\n",
    "import pickle\n",
    "from tqdm import tqdm"
   ]
  },
  {
   "cell_type": "code",
   "execution_count": 4,
   "id": "6668240a",
   "metadata": {},
   "outputs": [],
   "source": [
    "def mother_path(y):\n",
    "    m_path = \"http://www.statiz.co.kr/stat_at.php?opt=0&sopt=0&re=0&ys=\"+str(y)+\"&ye=\"+str(y)+\"&se=0&te=&tm=&ty=2016&qu=auto&po=0&as=&ae=&hi=&un=&pl=&da=1&o1=WAR_ALL_ADJ&o2=TPA&de=1&lr=0&tr=&cv=&ml=1&sn=30&si=&cn=\"\n",
    "    return m_path\n",
    "    \n",
    "m_path = mother_path(2008)\n",
    "m_path"
   ]
  },
  {
   "cell_type": "code",
   "execution_count": 8,
   "id": "664d0fb1",
   "metadata": {},
   "outputs": [
    {
     "name": "stderr",
     "output_type": "stream",
     "text": [
      "/var/folders/9t/mmn5mnpn14x8qvd1llmf0s5h0000gn/T/ipykernel_31433/2602835400.py:1: DeprecationWarning: executable_path has been deprecated, please pass in a Service object\n",
      "  driver = webdriver.Chrome(executable_path = \"/Users/infected4098/Desktop/DL/chromedriver\")\n"
     ]
    },
    {
     "name": "stdout",
     "output_type": "stream",
     "text": [
      "다음\n"
     ]
    }
   ],
   "source": [
    "driver = webdriver.Chrome(executable_path = \"/Users/infected4098/Desktop/DL/chromedriver\")\n",
    "driver.implicitly_wait(3)\n",
    "driver.get(m_path)\n",
    "#html = driver.page_source\n",
    "#soup = BeautifulSoup(html, \"html.parser\")\n",
    "\n",
    "#링크 넘어가기\n",
    "link = driver.find_element(\"xpath\", \"/html/body/div[1]/div[1]/div/section[2]/div/div[2]/div[5]/div/div/div[4]/table/tbody/tr/td[2]/a[2]\")\n",
    "next_link = link.get_attribute(\"href\")\n",
    "driver"
   ]
  },
  {
   "cell_type": "code",
   "execution_count": 99,
   "id": "3aa48cc7",
   "metadata": {},
   "outputs": [
    {
     "name": "stderr",
     "output_type": "stream",
     "text": [
      "/var/folders/9t/mmn5mnpn14x8qvd1llmf0s5h0000gn/T/ipykernel_31433/2045039117.py:2: DeprecationWarning: executable_path has been deprecated, please pass in a Service object\n",
      "  driver = webdriver.Chrome(executable_path = \"/Users/infected4098/Desktop/DL/chromedriver\")\n",
      "100%|███████████████████████████████████████████| 14/14 [03:37<00:00, 15.54s/it]\n"
     ]
    }
   ],
   "source": [
    "empty_dict = {}\n",
    "driver = webdriver.Chrome(executable_path = \"/Users/infected4098/Desktop/DL/chromedriver\")\n",
    "\n",
    "for i in tqdm(range(2008, 2022)):\n",
    "    yearly_path = mother_path(i)\n",
    "\n",
    "    driver.implicitly_wait(random.randint(0, 3))\n",
    "    driver.get(yearly_path)\n",
    "    for m in range(4):\n",
    "        yearly_list = []\n",
    "        for tr in range(3, 37):\n",
    "            if tr+1%12 != 0:\n",
    "        \n",
    "                table = driver.find_element(\"xpath\", \"/html/body/div[1]/div[1]/div/section[2]/div/div[2]/div[5]/div/div/div[2]/table/tbody/tr[\"+str(tr)+\"]\")\n",
    "                yearly_list.append([table.text])\n",
    "        link = driver.find_element(\"xpath\", \"/html/body/div[1]/div[1]/div/section[2]/div/div[2]/div[5]/div/div/div[4]/table/tbody/tr/td[2]/a[2]\")\n",
    "        next_link = link.get_attribute(\"href\")\n",
    "        driver.implicitly_wait(random.randint(0, 4))\n",
    "        driver.get(next_link)\n",
    "        empty_dict[str(i)+\"/\"+str(m)] = yearly_list\n",
    "    \n",
    "    \n",
    "        \n",
    "            \n",
    "\n",
    "        "
   ]
  },
  {
   "cell_type": "code",
   "execution_count": 104,
   "id": "734ea282",
   "metadata": {},
   "outputs": [
    {
     "data": {
      "text/plain": [
       "[['31 이진영 1SRF 2.39 95 363 324 53 102 20 0 8 146 53 12 6 31 3 3 26 4 2 3 .315 .377 .451 .827 .380 131.3 2.39'],\n",
       " ['32 홍성흔 1두C 2.38 114 460 423 45 140 19 2 8 187 63 8 1 25 4 5 35 16 3 5 .331 .370 .442 .812 .372 125.3 2.38'],\n",
       " ['33 브룸바 1현LF 2.27 102 420 358 39 105 17 0 13 161 61 1 1 56 2 6 79 12 0 4 .293 .388 .450 .838 .385 133.5 2.27'],\n",
       " ['34 전준호 1현CF 2.18 114 391 352 44 109 16 5 1 138 24 16 11 35 1 2 41 5 1 2 .310 .372 .392 .764 .359 116.0 2.18'],\n",
       " ['35 정성훈 1L3B 2.14 109 399 355 43 96 21 2 3 130 34 8 4 36 5 1 41 13 2 1 .270 .345 .366 .711 .336 100.8 2.14'],\n",
       " ['36 신경현 1한C 2.01 107 331 296 27 79 16 3 3 110 41 4 3 26 2 0 54 8 5 2 .267 .328 .372 .700 .325 93.4 2.01'],\n",
       " ['37 정수근 1두CF 1.97 80 362 309 51 90 16 0 0 106 25 24 13 51 0 0 40 5 2 0 .291 .392 .343 .735 .357 115.2 1.97'],\n",
       " ['38 김강민 1SCF 1.96 106 295 258 38 70 16 3 3 101 32 16 8 26 6 0 46 2 5 0 .271 .352 .391 .743 .346 107.5 1.96'],\n",
       " ['39 이재주 1KDH 1.94 87 314 261 37 72 15 0 12 123 58 2 1 45 3 2 49 8 0 5 .276 .382 .471 .853 .390 138.1 1.94'],\n",
       " ['40 나지완 1KDH 1.84 73 239 200 25 59 12 1 6 91 30 1 2 28 6 1 44 2 1 4 .295 .391 .455 .846 .390 137.5 1.84'],\n",
       " ['순 이름 팀 정렬\\nG\\n타석\\n타수\\n득점\\n안타\\n2타\\n3타\\n홈런\\n루타\\n타점\\n도루\\n도실\\n볼넷\\n사구\\n고4\\n삼진\\n병살\\n희타\\n희비\\n비율\\nWAR*\\nWPA'],\n",
       " ['WAR*\\n타율\\n출루\\n장타\\nOPS\\nwOBA\\nwRC+'],\n",
       " ['41 송지만 1한RF 1.82 118 451 414 48 116 18 0 13 173 62 4 5 28 5 1 82 11 0 4 .280 .330 .418 .748 .347 107.8 1.82'],\n",
       " ['42 박진만 1현SS 1.77 104 391 332 28 81 12 3 5 114 38 5 4 44 3 0 50 9 9 3 .244 .335 .343 .679 .317 88.1 1.77'],\n",
       " ['43 이대형 1LCF 1.71 126 574 523 71 138 5 2 0 147 33 63 15 39 2 1 80 3 9 1 .264 .317 .281 .598 .287 66.9 1.71'],\n",
       " ['44 이종범 1해SS 1.45 110 362 317 38 90 19 4 1 120 38 9 3 32 1 0 26 11 9 3 .284 .348 .379 .727 .335 99.9 1.45'],\n",
       " ['45 이대수 1한SS 1.43 90 237 213 22 60 9 3 2 81 23 2 4 16 5 0 28 7 2 1 .282 .345 .380 .725 .340 103.5 1.43'],\n",
       " ['46 박재상 1SLF 1.41 94 363 314 46 86 18 1 1 109 34 21 9 36 5 0 50 3 7 1 .274 .357 .347 .704 .333 98.5 1.41'],\n",
       " ['47 이영우 1한LF 1.40 89 305 271 41 78 21 2 2 109 27 2 1 26 1 0 40 9 2 5 .288 .347 .402 .749 .347 108.0 1.40'],\n",
       " ['48 양준혁 1삼DH 1.40 114 443 385 49 107 16 2 8 151 49 1 1 46 7 4 37 10 2 2 .278 .364 .392 .756 .352 111.9 1.40'],\n",
       " ['49 김재호 1두SS 1.38 112 292 261 48 65 8 5 1 86 21 12 3 25 2 0 33 7 3 1 .249 .318 .330 .648 .307 80.6 1.38'],\n",
       " ['50 이재원 1SC 1.30 82 171 146 14 46 13 1 3 70 25 2 0 20 2 0 24 8 0 3 .315 .398 .479 .877 .404 147.9 1.30'],\n",
       " ['순 이름 팀 정렬\\nG\\n타석\\n타수\\n득점\\n안타\\n2타\\n3타\\n홈런\\n루타\\n타점\\n도루\\n도실\\n볼넷\\n사구\\n고4\\n삼진\\n병살\\n희타\\n희비\\n비율\\nWAR*\\nWPA'],\n",
       " ['WAR*\\n타율\\n출루\\n장타\\nOPS\\nwOBA\\nwRC+'],\n",
       " ['51 김정민 1LC 1.25 71 178 155 11 47 6 0 1 56 17 1 1 14 3 0 21 2 5 1 .303 .370 .361 .731 .341 104.4 1.25'],\n",
       " ['52 박경수 1k2B 1.25 116 444 367 46 95 11 1 8 132 43 6 5 37 7 0 65 13 23 10 .259 .330 .360 .690 .309 82.0 1.25'],\n",
       " ['53 김민재 1롯SS 1.21 114 397 357 26 86 13 0 5 114 35 13 3 30 2 1 37 6 7 1 .241 .303 .319 .622 .291 71.2 1.21'],\n",
       " ['54 나주환 1SSS 1.19 118 413 361 43 89 16 3 3 120 46 14 5 26 6 0 64 12 13 7 .247 .303 .332 .635 .291 69.5 1.19'],\n",
       " ['55 조인성 1LC 1.17 102 353 330 25 75 18 1 10 125 49 0 0 17 1 1 76 6 1 4 .227 .264 .379 .643 .293 71.1 1.17'],\n",
       " ['56 손아섭 1롯RF 1.17 80 250 218 31 66 11 1 3 88 17 2 3 28 2 0 35 4 2 0 .303 .387 .404 .791 .373 126.6 1.17'],\n",
       " ['57 조동화 1SLF 1.13 103 337 283 43 79 4 4 1 94 26 19 3 33 3 2 56 6 15 3 .279 .357 .332 .689 .316 86.8 1.13'],\n",
       " ['58 최동수 1L1B 1.12 110 431 381 32 101 15 0 14 158 62 0 3 31 9 1 62 16 5 5 .265 .331 .415 .746 .342 104.6 1.12'],\n",
       " ['59 김창희 1해CF 1.11 103 264 227 29 64 13 0 1 80 19 2 1 27 6 0 35 9 4 0 .282 .373 .352 .726 .346 107.6 1.11'],\n",
       " ['60 김상현 1K3B 1.07 75 243 214 28 52 9 2 8 89 18 2 3 19 3 0 55 8 5 2 .243 .311 .416 .727 .328 95.6 1.07']]"
      ]
     },
     "execution_count": 104,
     "metadata": {},
     "output_type": "execute_result"
    }
   ],
   "source": [
    "empty_dict[\"2008/3\"]"
   ]
  },
  {
   "cell_type": "code",
   "execution_count": 113,
   "id": "2a642d5c",
   "metadata": {},
   "outputs": [],
   "source": [
    "column_list = [\"index\", \"이름\", \"팀\", \"WAR\", \"G\", \"타석\", \"타수\", \"득점\", \"안타\", \"2타\", \"3타\", \"홈런\", \"루타\", \"타점\", \"도루\", \"도실\", \"볼넷\", \"사구\", \"고4\", \"삼진\", \"병살\", \"희타\", \"희비\", \"타율\", \"출루\", \"장타\", \"OPS\", \"wOBA\", \"wRC\", \"WAR2\"]\n",
    "\n",
    "def preprocess(key):\n",
    "    for lst in empty_dict[str(key)]:\n",
    "        try:\n",
    "            a = int(lst[0][0])\n",
    "            new_list.append(lst)\n",
    "        except:\n",
    "            continue\n",
    "    real_list = []\n",
    "    for lsts in new_list:\n",
    "        k = lsts[0].split(\" \")\n",
    "        real_list.append(k)\n",
    "    result = pd.DataFrame(real_list).iloc[:, :-1]\n",
    "    result.columns = column_list\n",
    "    return result\n",
    "\n",
    "\n",
    "\n",
    "    "
   ]
  },
  {
   "cell_type": "code",
   "execution_count": 114,
   "id": "e4b07c4f",
   "metadata": {
    "scrolled": true
   },
   "outputs": [
    {
     "data": {
      "text/html": [
       "<div>\n",
       "<style scoped>\n",
       "    .dataframe tbody tr th:only-of-type {\n",
       "        vertical-align: middle;\n",
       "    }\n",
       "\n",
       "    .dataframe tbody tr th {\n",
       "        vertical-align: top;\n",
       "    }\n",
       "\n",
       "    .dataframe thead th {\n",
       "        text-align: right;\n",
       "    }\n",
       "</style>\n",
       "<table border=\"1\" class=\"dataframe\">\n",
       "  <thead>\n",
       "    <tr style=\"text-align: right;\">\n",
       "      <th></th>\n",
       "      <th>index</th>\n",
       "      <th>이름</th>\n",
       "      <th>팀</th>\n",
       "      <th>WAR</th>\n",
       "      <th>G</th>\n",
       "      <th>타석</th>\n",
       "      <th>타수</th>\n",
       "      <th>득점</th>\n",
       "      <th>안타</th>\n",
       "      <th>2타</th>\n",
       "      <th>...</th>\n",
       "      <th>병살</th>\n",
       "      <th>희타</th>\n",
       "      <th>희비</th>\n",
       "      <th>타율</th>\n",
       "      <th>출루</th>\n",
       "      <th>장타</th>\n",
       "      <th>OPS</th>\n",
       "      <th>wOBA</th>\n",
       "      <th>wRC</th>\n",
       "      <th>WAR2</th>\n",
       "    </tr>\n",
       "  </thead>\n",
       "  <tbody>\n",
       "    <tr>\n",
       "      <th>0</th>\n",
       "      <td>1</td>\n",
       "      <td>김현수</td>\n",
       "      <td>1두LF</td>\n",
       "      <td>7.14</td>\n",
       "      <td>126</td>\n",
       "      <td>558</td>\n",
       "      <td>470</td>\n",
       "      <td>83</td>\n",
       "      <td>168</td>\n",
       "      <td>34</td>\n",
       "      <td>...</td>\n",
       "      <td>12</td>\n",
       "      <td>0</td>\n",
       "      <td>2</td>\n",
       "      <td>.357</td>\n",
       "      <td>.454</td>\n",
       "      <td>.509</td>\n",
       "      <td>.963</td>\n",
       "      <td>.446</td>\n",
       "      <td>176.5</td>\n",
       "      <td>7.14</td>\n",
       "    </tr>\n",
       "    <tr>\n",
       "      <th>1</th>\n",
       "      <td>2</td>\n",
       "      <td>김태균</td>\n",
       "      <td>1한1B</td>\n",
       "      <td>6.14</td>\n",
       "      <td>115</td>\n",
       "      <td>484</td>\n",
       "      <td>410</td>\n",
       "      <td>81</td>\n",
       "      <td>133</td>\n",
       "      <td>27</td>\n",
       "      <td>...</td>\n",
       "      <td>8</td>\n",
       "      <td>0</td>\n",
       "      <td>5</td>\n",
       "      <td>.324</td>\n",
       "      <td>.417</td>\n",
       "      <td>.622</td>\n",
       "      <td>1.039</td>\n",
       "      <td>.461</td>\n",
       "      <td>183.4</td>\n",
       "      <td>6.14</td>\n",
       "    </tr>\n",
       "    <tr>\n",
       "      <th>2</th>\n",
       "      <td>3</td>\n",
       "      <td>조성환</td>\n",
       "      <td>1롯2B</td>\n",
       "      <td>5.82</td>\n",
       "      <td>123</td>\n",
       "      <td>525</td>\n",
       "      <td>462</td>\n",
       "      <td>79</td>\n",
       "      <td>151</td>\n",
       "      <td>27</td>\n",
       "      <td>...</td>\n",
       "      <td>6</td>\n",
       "      <td>4</td>\n",
       "      <td>11</td>\n",
       "      <td>.327</td>\n",
       "      <td>.382</td>\n",
       "      <td>.463</td>\n",
       "      <td>.845</td>\n",
       "      <td>.387</td>\n",
       "      <td>136.6</td>\n",
       "      <td>5.82</td>\n",
       "    </tr>\n",
       "    <tr>\n",
       "      <th>3</th>\n",
       "      <td>4</td>\n",
       "      <td>이대호</td>\n",
       "      <td>1롯1B</td>\n",
       "      <td>5.51</td>\n",
       "      <td>122</td>\n",
       "      <td>527</td>\n",
       "      <td>435</td>\n",
       "      <td>73</td>\n",
       "      <td>131</td>\n",
       "      <td>23</td>\n",
       "      <td>...</td>\n",
       "      <td>9</td>\n",
       "      <td>0</td>\n",
       "      <td>12</td>\n",
       "      <td>.301</td>\n",
       "      <td>.400</td>\n",
       "      <td>.478</td>\n",
       "      <td>.879</td>\n",
       "      <td>.402</td>\n",
       "      <td>147.1</td>\n",
       "      <td>5.51</td>\n",
       "    </tr>\n",
       "    <tr>\n",
       "      <th>4</th>\n",
       "      <td>5</td>\n",
       "      <td>최정</td>\n",
       "      <td>1S3B</td>\n",
       "      <td>5.40</td>\n",
       "      <td>114</td>\n",
       "      <td>476</td>\n",
       "      <td>406</td>\n",
       "      <td>77</td>\n",
       "      <td>133</td>\n",
       "      <td>24</td>\n",
       "      <td>...</td>\n",
       "      <td>7</td>\n",
       "      <td>10</td>\n",
       "      <td>2</td>\n",
       "      <td>.328</td>\n",
       "      <td>.410</td>\n",
       "      <td>.480</td>\n",
       "      <td>.890</td>\n",
       "      <td>.405</td>\n",
       "      <td>148.5</td>\n",
       "      <td>5.40</td>\n",
       "    </tr>\n",
       "    <tr>\n",
       "      <th>...</th>\n",
       "      <td>...</td>\n",
       "      <td>...</td>\n",
       "      <td>...</td>\n",
       "      <td>...</td>\n",
       "      <td>...</td>\n",
       "      <td>...</td>\n",
       "      <td>...</td>\n",
       "      <td>...</td>\n",
       "      <td>...</td>\n",
       "      <td>...</td>\n",
       "      <td>...</td>\n",
       "      <td>...</td>\n",
       "      <td>...</td>\n",
       "      <td>...</td>\n",
       "      <td>...</td>\n",
       "      <td>...</td>\n",
       "      <td>...</td>\n",
       "      <td>...</td>\n",
       "      <td>...</td>\n",
       "      <td>...</td>\n",
       "      <td>...</td>\n",
       "    </tr>\n",
       "    <tr>\n",
       "      <th>17095</th>\n",
       "      <td>56</td>\n",
       "      <td>손아섭</td>\n",
       "      <td>1롯RF</td>\n",
       "      <td>1.17</td>\n",
       "      <td>80</td>\n",
       "      <td>250</td>\n",
       "      <td>218</td>\n",
       "      <td>31</td>\n",
       "      <td>66</td>\n",
       "      <td>11</td>\n",
       "      <td>...</td>\n",
       "      <td>4</td>\n",
       "      <td>2</td>\n",
       "      <td>0</td>\n",
       "      <td>.303</td>\n",
       "      <td>.387</td>\n",
       "      <td>.404</td>\n",
       "      <td>.791</td>\n",
       "      <td>.373</td>\n",
       "      <td>126.6</td>\n",
       "      <td>1.17</td>\n",
       "    </tr>\n",
       "    <tr>\n",
       "      <th>17096</th>\n",
       "      <td>57</td>\n",
       "      <td>조동화</td>\n",
       "      <td>1SLF</td>\n",
       "      <td>1.13</td>\n",
       "      <td>103</td>\n",
       "      <td>337</td>\n",
       "      <td>283</td>\n",
       "      <td>43</td>\n",
       "      <td>79</td>\n",
       "      <td>4</td>\n",
       "      <td>...</td>\n",
       "      <td>6</td>\n",
       "      <td>15</td>\n",
       "      <td>3</td>\n",
       "      <td>.279</td>\n",
       "      <td>.357</td>\n",
       "      <td>.332</td>\n",
       "      <td>.689</td>\n",
       "      <td>.316</td>\n",
       "      <td>86.8</td>\n",
       "      <td>1.13</td>\n",
       "    </tr>\n",
       "    <tr>\n",
       "      <th>17097</th>\n",
       "      <td>58</td>\n",
       "      <td>최동수</td>\n",
       "      <td>1L1B</td>\n",
       "      <td>1.12</td>\n",
       "      <td>110</td>\n",
       "      <td>431</td>\n",
       "      <td>381</td>\n",
       "      <td>32</td>\n",
       "      <td>101</td>\n",
       "      <td>15</td>\n",
       "      <td>...</td>\n",
       "      <td>16</td>\n",
       "      <td>5</td>\n",
       "      <td>5</td>\n",
       "      <td>.265</td>\n",
       "      <td>.331</td>\n",
       "      <td>.415</td>\n",
       "      <td>.746</td>\n",
       "      <td>.342</td>\n",
       "      <td>104.6</td>\n",
       "      <td>1.12</td>\n",
       "    </tr>\n",
       "    <tr>\n",
       "      <th>17098</th>\n",
       "      <td>59</td>\n",
       "      <td>김창희</td>\n",
       "      <td>1해CF</td>\n",
       "      <td>1.11</td>\n",
       "      <td>103</td>\n",
       "      <td>264</td>\n",
       "      <td>227</td>\n",
       "      <td>29</td>\n",
       "      <td>64</td>\n",
       "      <td>13</td>\n",
       "      <td>...</td>\n",
       "      <td>9</td>\n",
       "      <td>4</td>\n",
       "      <td>0</td>\n",
       "      <td>.282</td>\n",
       "      <td>.373</td>\n",
       "      <td>.352</td>\n",
       "      <td>.726</td>\n",
       "      <td>.346</td>\n",
       "      <td>107.6</td>\n",
       "      <td>1.11</td>\n",
       "    </tr>\n",
       "    <tr>\n",
       "      <th>17099</th>\n",
       "      <td>60</td>\n",
       "      <td>김상현</td>\n",
       "      <td>1K3B</td>\n",
       "      <td>1.07</td>\n",
       "      <td>75</td>\n",
       "      <td>243</td>\n",
       "      <td>214</td>\n",
       "      <td>28</td>\n",
       "      <td>52</td>\n",
       "      <td>9</td>\n",
       "      <td>...</td>\n",
       "      <td>8</td>\n",
       "      <td>5</td>\n",
       "      <td>2</td>\n",
       "      <td>.243</td>\n",
       "      <td>.311</td>\n",
       "      <td>.416</td>\n",
       "      <td>.727</td>\n",
       "      <td>.328</td>\n",
       "      <td>95.6</td>\n",
       "      <td>1.07</td>\n",
       "    </tr>\n",
       "  </tbody>\n",
       "</table>\n",
       "<p>17100 rows × 30 columns</p>\n",
       "</div>"
      ],
      "text/plain": [
       "      index   이름     팀   WAR    G   타석   타수  득점   안타  2타  ...  병살  희타  희비  \\\n",
       "0         1  김현수  1두LF  7.14  126  558  470  83  168  34  ...  12   0   2   \n",
       "1         2  김태균  1한1B  6.14  115  484  410  81  133  27  ...   8   0   5   \n",
       "2         3  조성환  1롯2B  5.82  123  525  462  79  151  27  ...   6   4  11   \n",
       "3         4  이대호  1롯1B  5.51  122  527  435  73  131  23  ...   9   0  12   \n",
       "4         5   최정  1S3B  5.40  114  476  406  77  133  24  ...   7  10   2   \n",
       "...     ...  ...   ...   ...  ...  ...  ...  ..  ...  ..  ...  ..  ..  ..   \n",
       "17095    56  손아섭  1롯RF  1.17   80  250  218  31   66  11  ...   4   2   0   \n",
       "17096    57  조동화  1SLF  1.13  103  337  283  43   79   4  ...   6  15   3   \n",
       "17097    58  최동수  1L1B  1.12  110  431  381  32  101  15  ...  16   5   5   \n",
       "17098    59  김창희  1해CF  1.11  103  264  227  29   64  13  ...   9   4   0   \n",
       "17099    60  김상현  1K3B  1.07   75  243  214  28   52   9  ...   8   5   2   \n",
       "\n",
       "         타율    출루    장타    OPS  wOBA    wRC  WAR2  \n",
       "0      .357  .454  .509   .963  .446  176.5  7.14  \n",
       "1      .324  .417  .622  1.039  .461  183.4  6.14  \n",
       "2      .327  .382  .463   .845  .387  136.6  5.82  \n",
       "3      .301  .400  .478   .879  .402  147.1  5.51  \n",
       "4      .328  .410  .480   .890  .405  148.5  5.40  \n",
       "...     ...   ...   ...    ...   ...    ...   ...  \n",
       "17095  .303  .387  .404   .791  .373  126.6  1.17  \n",
       "17096  .279  .357  .332   .689  .316   86.8  1.13  \n",
       "17097  .265  .331  .415   .746  .342  104.6  1.12  \n",
       "17098  .282  .373  .352   .726  .346  107.6  1.11  \n",
       "17099  .243  .311  .416   .727  .328   95.6  1.07  \n",
       "\n",
       "[17100 rows x 30 columns]"
      ]
     },
     "execution_count": 114,
     "metadata": {},
     "output_type": "execute_result"
    }
   ],
   "source": [
    "preprocess(\"2008/3\")"
   ]
  },
  {
   "cell_type": "code",
   "execution_count": 115,
   "id": "6e558eb0",
   "metadata": {
    "scrolled": true
   },
   "outputs": [
    {
     "name": "stdout",
     "output_type": "stream",
     "text": [
      "['2008/0', '2008/1', '2008/2', '2008/3', '2009/0', '2009/1', '2009/2', '2009/3', '2010/0', '2010/1', '2010/2', '2010/3', '2011/0', '2011/1', '2011/2', '2011/3', '2012/0', '2012/1', '2012/2', '2012/3', '2013/0', '2013/1', '2013/2', '2013/3', '2014/0', '2014/1', '2014/2', '2014/3', '2015/0', '2015/1', '2015/2', '2015/3', '2016/0', '2016/1', '2016/2', '2016/3', '2017/0', '2017/1', '2017/2', '2017/3', '2018/0', '2018/1', '2018/2', '2018/3', '2019/0', '2019/1', '2019/2', '2019/3', '2020/0', '2020/1', '2020/2', '2020/3', '2021/0', '2021/1', '2021/2', '2021/3']\n"
     ]
    }
   ],
   "source": [
    "print(list(empty_dict.keys()))"
   ]
  },
  {
   "cell_type": "code",
   "execution_count": 133,
   "id": "3beabfa1",
   "metadata": {},
   "outputs": [
    {
     "name": "stderr",
     "output_type": "stream",
     "text": [
      "100%|███████████████████████████████████████████| 56/56 [00:10<00:00,  5.11it/s]\n"
     ]
    }
   ],
   "source": [
    "full_df = pd.DataFrame()\n",
    "for key in tqdm(list(empty_dict.keys())):\n",
    "    year = str(key[:4])\n",
    "    yearly_df = preprocess(key)\n",
    "    yearly_df[\"year\"] = year\n",
    "    yearly_df = yearly_df.drop_duplicates()\n",
    "    full_df = pd.concat([full_df, yearly_df], axis = 0)\n",
    "    \n"
   ]
  },
  {
   "cell_type": "code",
   "execution_count": 134,
   "id": "57f12b24",
   "metadata": {},
   "outputs": [
    {
     "data": {
      "text/plain": [
       "(47040, 31)"
      ]
     },
     "execution_count": 134,
     "metadata": {},
     "output_type": "execute_result"
    }
   ],
   "source": [
    "full_df.shape"
   ]
  },
  {
   "cell_type": "code",
   "execution_count": 140,
   "id": "635d430b",
   "metadata": {},
   "outputs": [],
   "source": [
    "full_df = full_df.drop_duplicates()\n",
    "full_df_3 = full_df.copy()\n"
   ]
  },
  {
   "cell_type": "code",
   "execution_count": 141,
   "id": "bba11b46",
   "metadata": {},
   "outputs": [],
   "source": [
    "full_df_3[\"팀\"] = full_df_3[\"팀\"].apply(lambda x: re.compile(\"[가-힣|a-z|A-Z]\").findall(x))\n",
    "full_df_3[\"팀\"] = full_df_3[\"팀\"].apply(lambda x: x[0])\n"
   ]
  },
  {
   "cell_type": "code",
   "execution_count": 143,
   "id": "5569daff",
   "metadata": {},
   "outputs": [
    {
     "data": {
      "text/plain": [
       "두    2002\n",
       "S    1414\n",
       "삼    1386\n",
       "K    1372\n",
       "롯    1134\n",
       "한    1106\n",
       "L    1106\n",
       "넥    1008\n",
       "N     504\n",
       "k     350\n",
       "키     210\n",
       "현     140\n",
       "해      28\n",
       "Name: 팀, dtype: int64"
      ]
     },
     "execution_count": 143,
     "metadata": {},
     "output_type": "execute_result"
    }
   ],
   "source": [
    "full_df_3[\"팀\"].value_counts()"
   ]
  },
  {
   "cell_type": "code",
   "execution_count": 145,
   "id": "327bda37",
   "metadata": {},
   "outputs": [],
   "source": [
    "dic = {'두': '두산',\n",
    "'S': 'SK',\n",
    "'삼': '삼성',\n",
    "'K': 'KIA',\n",
    "'롯': '롯데',\n",
    "'한': '한화',\n",
    "'L': 'LG',\n",
    "'넥': '넥센',\n",
    "'N': 'NC',\n",
    "'k': 'KT',\n",
    "'키': '키움',\n",
    "'현': '현대',\n",
    "'해': '해태'}"
   ]
  },
  {
   "cell_type": "code",
   "execution_count": 146,
   "id": "d98c9101",
   "metadata": {},
   "outputs": [],
   "source": [
    "def team_preprocess(value):\n",
    "    global dic\n",
    "    return dic[value]\n"
   ]
  },
  {
   "cell_type": "code",
   "execution_count": 151,
   "id": "3b187064",
   "metadata": {},
   "outputs": [],
   "source": [
    "full_df_2 = full_df_3.copy()\n",
    "full_df_2[\"팀\"] = full_df_2[\"팀\"].apply(lambda x: team_preprocess(x))"
   ]
  },
  {
   "cell_type": "code",
   "execution_count": 155,
   "id": "917dd304",
   "metadata": {},
   "outputs": [],
   "source": [
    "full_df_2.to_csv(\"/Users/infected4098/Desktop/DL/Deepdaiv/삼인성호/kbo.csv\")"
   ]
  },
  {
   "cell_type": "code",
   "execution_count": 158,
   "id": "7d4ffe30",
   "metadata": {},
   "outputs": [
    {
     "data": {
      "text/plain": [
       "index    0\n",
       "이름       0\n",
       "팀        0\n",
       "WAR      0\n",
       "G        0\n",
       "타석       0\n",
       "타수       0\n",
       "득점       0\n",
       "안타       0\n",
       "2타       0\n",
       "3타       0\n",
       "홈런       0\n",
       "루타       0\n",
       "타점       0\n",
       "도루       0\n",
       "도실       0\n",
       "볼넷       0\n",
       "사구       0\n",
       "고4       0\n",
       "삼진       0\n",
       "병살       0\n",
       "희타       0\n",
       "희비       0\n",
       "타율       0\n",
       "출루       0\n",
       "장타       0\n",
       "OPS      0\n",
       "wOBA     0\n",
       "wRC      0\n",
       "WAR2     0\n",
       "year     0\n",
       "dtype: int64"
      ]
     },
     "execution_count": 158,
     "metadata": {},
     "output_type": "execute_result"
    }
   ],
   "source": [
    "full_df_2.isnull().sum()"
   ]
  },
  {
   "cell_type": "code",
   "execution_count": 159,
   "id": "cf882f4e",
   "metadata": {},
   "outputs": [
    {
     "data": {
      "text/plain": [
       "(11760, 31)"
      ]
     },
     "execution_count": 159,
     "metadata": {},
     "output_type": "execute_result"
    }
   ],
   "source": [
    "full_df_2.shape"
   ]
  },
  {
   "cell_type": "code",
   "execution_count": null,
   "id": "48274812",
   "metadata": {},
   "outputs": [],
   "source": []
  }
 ],
 "metadata": {
  "kernelspec": {
   "display_name": "Python 3 (ipykernel)",
   "language": "python",
   "name": "python3"
  },
  "language_info": {
   "codemirror_mode": {
    "name": "ipython",
    "version": 3
   },
   "file_extension": ".py",
   "mimetype": "text/x-python",
   "name": "python",
   "nbconvert_exporter": "python",
   "pygments_lexer": "ipython3",
   "version": "3.9.12"
  }
 },
 "nbformat": 4,
 "nbformat_minor": 5
}
